{
 "cells": [
  {
   "cell_type": "markdown",
   "id": "6d2496a0-aac2-4ff5-9a9a-7fbe6c5f59da",
   "metadata": {},
   "source": [
    "## Prompt Generation Example"
   ]
  },
  {
   "cell_type": "code",
   "execution_count": 3,
   "id": "fedc90f0-7ddd-476b-95c9-6101729ee11a",
   "metadata": {},
   "outputs": [
    {
     "name": "stderr",
     "output_type": "stream",
     "text": [
      "2025-08-05 04:56:32,756 [INFO] HTTP Request: POST http://localhost:11434/api/chat \"HTTP/1.1 200 OK\"\n"
     ]
    },
    {
     "name": "stdout",
     "output_type": "stream",
     "text": [
      "{\n",
      "  \"model\": \"granite3.3:2b\",\n",
      "  \"created_at\": \"2025-08-05T08:56:32.754933371Z\",\n",
      "  \"message\": {\n",
      "    \"role\": \"assistant\",\n",
      "    \"content\": \"Clean code and adherence to best practices are crucial for writing maintainable, scalable, and efficient software. Here's why:\\n\\n1. **Readability and Understandability**: Clean code is easy to read and understand. It follows a consistent naming convention, uses meaningful variable names, and has clear comments explaining complex logic. This makes it simpler for developers (including future team members) to comprehend the codebase, reducing the learning curve and time spent on understanding.\\n\\n2. **Reusability**: Code that is well-structured, modular, and follows best practices can be easily reused in different parts of a project or even across various projects. This promotes consistency, reduces redundancy, and saves development time.\\n\\n3. **Maintainability**: As projects grow larger, maintaining the codebase becomes more challenging. Clean code with good structure and documentation makes it easier to locate issues, make changes, and ensure that modifications don't introduce new bugs. It simplifies bug fixing, enhances debugging efficiency, and reduces the time required for updates and enhancements.\\n\\n4. **Collaboration**: When developers work on a project using clean code and best practices, they can collaborate more effectively. They can understand each other's contributions quickly since the code is self-explanatory. This encourages teamwork and reduces miscommunication and conflicts.\\n\\n5. **Reduced Technical Debt**: Writing clean code helps in minimizing technical debt. Over time, if a project accumulates unaddressed issues or suboptimal solutions (technical debt), it becomes harder to extend the functionality without introducing new problems. Clean code makes these adjustments smoother and less risky by avoiding tight coupling, promoting separation of concerns, and ensuring modularity.\\n\\n6. **Future-proofing**: Best practices and clean code ensure that software can adapt to changing requirements or technologies more easily in the long run. They promote a flexible architecture that's resilient against changes and obsolescence.\\n\\n7. **Code Quality and Reliability**: Clean code and adherence to best practices generally lead to fewer bugs, improved performance, and better overall software quality. This results from reducing redundancy, ensuring modularity, and making the codebase more efficient and optimized.\\n\\nIn summary, clean code and following best practices are pivotal for creating maintainable software that can evolve with time, be easily understood by developers, reused effectively, and contribute to high-quality, reliable applications.\"\n",
      "  },\n",
      "  \"done_reason\": \"stop\",\n",
      "  \"done\": true,\n",
      "  \"total_duration\": 60092292930,\n",
      "  \"load_duration\": 5136901343,\n",
      "  \"prompt_eval_count\": 58,\n",
      "  \"prompt_eval_duration\": 3388521313,\n",
      "  \"eval_count\": 523,\n",
      "  \"eval_duration\": 51564740808\n",
      "}\n"
     ]
    }
   ],
   "source": [
    "import asyncio\n",
    "from alpaca import api\n",
    "import json\n",
    "\n",
    "async def example_prompt_gen():\n",
    "    prompt = (\n",
    "        \"Explain the importance of clean code and best practices \"\n",
    "        \"for writing maintainable software.\"\n",
    "    )\n",
    "    result = await api.prompt_gen(prompt, stream=False)\n",
    "    print(json.dumps(result, indent=2))\n",
    "\n",
    "await example_prompt_gen()"
   ]
  },
  {
   "cell_type": "markdown",
   "id": "50dca30d-b451-4745-a364-303011190343",
   "metadata": {},
   "source": [
    "## Similarity Checker Example"
   ]
  },
  {
   "cell_type": "code",
   "execution_count": 2,
   "id": "f23eb3d2-ed79-4585-a312-292cf6029b5a",
   "metadata": {},
   "outputs": [
    {
     "name": "stderr",
     "output_type": "stream",
     "text": [
      "2025-08-05 04:52:14,407 [INFO] HTTP Request: POST http://localhost:11434/api/embed \"HTTP/1.1 200 OK\"\n",
      "2025-08-05 04:52:14,833 [INFO] HTTP Request: POST http://localhost:11434/api/embed \"HTTP/1.1 200 OK\"\n",
      "2025-08-05 04:52:15,000 [INFO] HTTP Request: POST http://localhost:11434/api/embed \"HTTP/1.1 200 OK\"\n",
      "2025-08-05 04:52:15,148 [INFO] HTTP Request: POST http://localhost:11434/api/embed \"HTTP/1.1 200 OK\"\n"
     ]
    },
    {
     "name": "stdout",
     "output_type": "stream",
     "text": [
      "{\n",
      "  \"query\": \"What is the capital of France?\",\n",
      "  \"comparisons\": [\n",
      "    {\n",
      "      \"index\": 0,\n",
      "      \"sentence\": \"Paris is the capital of France.\",\n",
      "      \"similarity\": 0.8266352598584532\n",
      "    },\n",
      "    {\n",
      "      \"index\": 1,\n",
      "      \"sentence\": \"Berlin is in Germany.\",\n",
      "      \"similarity\": 0.4605843140458018\n",
      "    },\n",
      "    {\n",
      "      \"index\": 2,\n",
      "      \"sentence\": \"Madrid is in Spain.\",\n",
      "      \"similarity\": 0.4563730829820492\n",
      "    }\n",
      "  ],\n",
      "  \"best\": {\n",
      "    \"index\": 0,\n",
      "    \"sentence\": \"Paris is the capital of France.\",\n",
      "    \"similarity\": 0.8266352598584532\n",
      "  }\n",
      "}\n"
     ]
    }
   ],
   "source": [
    "import asyncio\n",
    "import json\n",
    "from alpaca import api  \n",
    "\n",
    "async def example_sim_check():\n",
    "    query = \"What is the capital of France?\"\n",
    "    sentences = [\n",
    "        \"Paris is the capital of France.\",\n",
    "        \"Berlin is in Germany.\",\n",
    "        \"Madrid is in Spain.\"\n",
    "    ]\n",
    "    result = await api.sim_check(query, sentences)\n",
    "    print(json.dumps(result, indent=2)) \n",
    "    \n",
    "await example_sim_check() "
   ]
  }
 ],
 "metadata": {
  "kernelspec": {
   "display_name": "Python 3 (ipykernel)",
   "language": "python",
   "name": "python3"
  },
  "language_info": {
   "codemirror_mode": {
    "name": "ipython",
    "version": 3
   },
   "file_extension": ".py",
   "mimetype": "text/x-python",
   "name": "python",
   "nbconvert_exporter": "python",
   "pygments_lexer": "ipython3",
   "version": "3.13.5"
  }
 },
 "nbformat": 4,
 "nbformat_minor": 5
}
